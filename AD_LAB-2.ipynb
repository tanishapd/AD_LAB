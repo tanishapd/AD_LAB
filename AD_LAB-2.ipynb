{
 "cells": [
  {
   "cell_type": "code",
   "execution_count": 2,
   "id": "7411a0e7",
   "metadata": {},
   "outputs": [
    {
     "name": "stdout",
     "output_type": "stream",
     "text": [
      "Enter the first number: 20\n",
      "Enter the second number: 34\n",
      "Addition: 20 + 34 = 54\n",
      "Subtraction: 20 - 34 = -14\n",
      "Multiplication: 20 * 34 = 680\n",
      "Division: 20 / 34 = 0.5882352941176471\n"
     ]
    }
   ],
   "source": [
    "def add(a, b):\n",
    "    return a + b\n",
    "\n",
    "def subtract(a, b):\n",
    "    return a - b\n",
    "\n",
    "def multiply(a, b):\n",
    "    return a * b\n",
    "\n",
    "def divide(a, b):\n",
    "    return a / b if b != 0 else \"Undefined (division by zero)\"\n",
    "\n",
    "num1 = int(input(\"Enter the first number: \"))\n",
    "num2 = int(input(\"Enter the second number: \"))\n",
    "\n",
    "print(f\"Addition: {num1} + {num2} = {add(num1, num2)}\")\n",
    "print(f\"Subtraction: {num1} - {num2} = {subtract(num1, num2)}\")\n",
    "print(f\"Multiplication: {num1} * {num2} = {multiply(num1, num2)}\")\n",
    "print(f\"Division: {num1} / {num2} = {divide(num1, num2)}\")"
   ]
  },
  {
   "cell_type": "code",
   "execution_count": 3,
   "id": "86737d6d",
   "metadata": {},
   "outputs": [
    {
     "name": "stdout",
     "output_type": "stream",
     "text": [
      "Enter the first number: 20\n",
      "Enter the second number: 30\n",
      "Addition: 20 + 30 = 50\n",
      "Subtraction: 20 - 30 = -10\n",
      "Multiplication: 20 * 30 = 600\n",
      "Division: 20 / 30 = 0.6666666666666666\n"
     ]
    }
   ],
   "source": [
    "add = lambda a, b: a + b\n",
    "subtract = lambda a, b: a - b\n",
    "multiply = lambda a, b: a * b\n",
    "divide = lambda a, b: a / b if b != 0 else \"Undefined (division by zero)\"\n",
    "\n",
    "num1 = int(input(\"Enter the first number: \"))\n",
    "num2 = int(input(\"Enter the second number: \"))\n",
    "\n",
    "print(f\"Addition: {num1} + {num2} = {add(num1, num2)}\")\n",
    "print(f\"Subtraction: {num1} - {num2} = {subtract(num1, num2)}\")\n",
    "print(f\"Multiplication: {num1} * {num2} = {multiply(num1, num2)}\")\n",
    "print(f\"Division: {num1} / {num2} = {divide(num1, num2)}\")\n"
   ]
  },
  {
   "cell_type": "code",
   "execution_count": 4,
   "id": "bb574ce0",
   "metadata": {},
   "outputs": [
    {
     "name": "stdout",
     "output_type": "stream",
     "text": [
      "Choose an option:\n",
      "1. Convert Decimal to Binary\n",
      "2. Convert Binary to Decimal\n",
      "Enter your choice (1 or 2): 2\n",
      "Enter a binary number: 10\n",
      "Decimal representation: 2\n"
     ]
    }
   ],
   "source": [
    "def decimal_to_binary(decimal_number):\n",
    "    return bin(decimal_number)[2:] \n",
    "\n",
    "def binary_to_decimal(binary_number):\n",
    "    return int(binary_number, 2) \n",
    "\n",
    "print(\"Choose an option:\")\n",
    "print(\"1. Convert Decimal to Binary\")\n",
    "print(\"2. Convert Binary to Decimal\")\n",
    "choice = int(input(\"Enter your choice (1 or 2): \"))\n",
    "\n",
    "if choice == 1:\n",
    "    decimal_number = int(input(\"Enter a decimal number: \"))\n",
    "    print(f\"Binary representation: {decimal_to_binary(decimal_number)}\")\n",
    "elif choice == 2:\n",
    "    binary_number = input(\"Enter a binary number: \")\n",
    "    print(f\"Decimal representation: {binary_to_decimal(binary_number)}\")\n",
    "else:\n",
    "    print(\"Invalid choice! Please enter 1 or 2.\")\n"
   ]
  },
  {
   "cell_type": "code",
   "execution_count": 5,
   "id": "f7f79ada",
   "metadata": {},
   "outputs": [
    {
     "name": "stdout",
     "output_type": "stream",
     "text": [
      "Enter the number of terms in the Fibonacci series: 5\n",
      "Fibonacci series:\n",
      "0 1 1 2 3 "
     ]
    }
   ],
   "source": [
    "def fibonacci(n):\n",
    "    if n <= 1:\n",
    "        return n\n",
    "    return fibonacci(n - 1) + fibonacci(n - 2)\n",
    "        \n",
    "num_terms = int(input(\"Enter the number of terms in the Fibonacci series: \"))\n",
    "\n",
    "print(\"Fibonacci series:\")\n",
    "for i in range(num_terms):\n",
    "    print(fibonacci(i), end=\" \")\n"
   ]
  },
  {
   "cell_type": "code",
   "execution_count": 7,
   "id": "25bb0382",
   "metadata": {},
   "outputs": [
    {
     "name": "stdout",
     "output_type": "stream",
     "text": [
      "Enter the number of rows for Pascal's Triangle: 5\n",
      "1 \n",
      "1 1 \n",
      "1 2 1 \n",
      "1 3 3 1 \n",
      "1 4 6 4 1 \n"
     ]
    }
   ],
   "source": [
    "def pascals_triangle(n):\n",
    "    for i in range(n):\n",
    "        num = 1\n",
    "        for j in range(i + 1):\n",
    "            print(num, end=\" \")\n",
    "            num = num * (i - j) // (j + 1) \n",
    "        print()  \n",
    "\n",
    "num_rows = int(input(\"Enter the number of rows for Pascal's Triangle: \"))\n",
    "\n",
    "if num_rows <= 0:\n",
    "    print(\"Please enter a positive integer.\")\n",
    "else:\n",
    "    pascals_triangle(num_rows)"
   ]
  },
  {
   "cell_type": "code",
   "execution_count": 8,
   "id": "165e5e16",
   "metadata": {},
   "outputs": [
    {
     "name": "stdout",
     "output_type": "stream",
     "text": [
      "Enter a number: 2332\n",
      "2332 is a Palindrome number.\n",
      "2332 is not a Perfect number.\n",
      "2332 is not an Armstrong number.\n"
     ]
    }
   ],
   "source": [
    "def is_palindrome(n):\n",
    "    return str(n) == str(n)[::-1]\n",
    "\n",
    "def is_perfect(n):\n",
    "    return sum(i for i in range(1, n) if n % i == 0) == n\n",
    "\n",
    "def is_armstrong(n):\n",
    "    return n == sum(int(digit) ** len(str(n)) for digit in str(n))\n",
    "\n",
    "number = int(input(\"Enter a number: \"))\n",
    "\n",
    "if is_palindrome(number):\n",
    "    print(f\"{number} is a Palindrome number.\")\n",
    "else:\n",
    "    print(f\"{number} is not a Palindrome number.\")\n",
    "\n",
    "if is_perfect(number):\n",
    "    print(f\"{number} is a Perfect number.\")\n",
    "else:\n",
    "    print(f\"{number} is not a Perfect number.\")\n",
    "\n",
    "if is_armstrong(number):\n",
    "    print(f\"{number} is an Armstrong number.\")\n",
    "else:\n",
    "    print(f\"{number} is not an Armstrong number.\")\n"
   ]
  },
  {
   "cell_type": "code",
   "execution_count": 9,
   "id": "0d33e14f",
   "metadata": {},
   "outputs": [
    {
     "name": "stdout",
     "output_type": "stream",
     "text": [
      "Even numbers: [2, 4, 6, 8, 10]\n",
      "Numbers greater than 5: [6, 7, 8, 9, 10]\n"
     ]
    }
   ],
   "source": [
    "numbers = [1, 2, 3, 4, 5, 6, 7, 8, 9, 10]\n",
    "\n",
    "even_numbers = list(filter(lambda x: x % 2 == 0, numbers))\n",
    "print(\"Even numbers:\", even_numbers)\n",
    "\n",
    "greater_than_five = list(filter(lambda x: x > 5, numbers))\n",
    "print(\"Numbers greater than 5:\", greater_than_five)\n"
   ]
  },
  {
   "cell_type": "code",
   "execution_count": 10,
   "id": "249f613a",
   "metadata": {},
   "outputs": [
    {
     "name": "stdout",
     "output_type": "stream",
     "text": [
      "Doubled numbers: [2, 4, 6, 8, 10]\n",
      "Squared numbers: [1, 4, 9, 16, 25]\n"
     ]
    }
   ],
   "source": [
    "numbers = [1, 2, 3, 4, 5]\n",
    "\n",
    "doubled = list(map(lambda x: x * 2, numbers))\n",
    "print(\"Doubled numbers:\", doubled)\n",
    "\n",
    "squared = list(map(lambda x: x ** 2, numbers))\n",
    "print(\"Squared numbers:\", squared)\n"
   ]
  },
  {
   "cell_type": "code",
   "execution_count": 11,
   "id": "0179eafb",
   "metadata": {},
   "outputs": [
    {
     "name": "stdout",
     "output_type": "stream",
     "text": [
      "Initial List: [10, 20, 30, 40, 50]\n",
      "After adding 60: [10, 20, 30, 40, 50, 60]\n",
      "After removing 30: [10, 20, 40, 50, 60]\n",
      "Element at index 2: 40\n",
      "After inserting 25 at index 1: [10, 25, 20, 40, 50, 60]\n",
      "After popping the last element: [10, 25, 20, 40, 50]\n"
     ]
    }
   ],
   "source": [
    "numbers = [10, 20, 30, 40, 50]\n",
    "print(\"Initial List:\", numbers)\n",
    "\n",
    "numbers.append(60)\n",
    "print(\"After adding 60:\", numbers)\n",
    "\n",
    "numbers.remove(30)\n",
    "print(\"After removing 30:\", numbers)\n",
    "\n",
    "index = 2\n",
    "print(f\"Element at index {index}:\", numbers[index])\n",
    "\n",
    "numbers.insert(1, 25)\n",
    "print(\"After inserting 25 at index 1:\", numbers)\n",
    "\n",
    "numbers.pop()\n",
    "print(\"After popping the last element:\", numbers)\n"
   ]
  },
  {
   "cell_type": "code",
   "execution_count": 12,
   "id": "2852e25e",
   "metadata": {},
   "outputs": [
    {
     "name": "stdout",
     "output_type": "stream",
     "text": [
      "Ascending order: [1, 2, 5, 7, 9]\n",
      "Descending order: [9, 7, 5, 2, 1]\n"
     ]
    }
   ],
   "source": [
    "numbers = [5, 2, 9, 1, 7]\n",
    "\n",
    "ascending = sorted(numbers, key=lambda x: x)\n",
    "print(\"Ascending order:\", ascending)\n",
    "\n",
    "descending = sorted(numbers, key=lambda x: -x)\n",
    "print(\"Descending order:\", descending)\n"
   ]
  },
  {
   "cell_type": "code",
   "execution_count": 13,
   "id": "6dff8c23",
   "metadata": {},
   "outputs": [
    {
     "name": "stdout",
     "output_type": "stream",
     "text": [
      "First fruit: apple\n",
      "Second fruit: banana\n",
      "Is 'banana' in the tuple? True\n",
      "Number of fruits: 3\n"
     ]
    }
   ],
   "source": [
    "fruits = (\"apple\", \"banana\", \"cherry\")\n",
    "\n",
    "print(\"First fruit:\", fruits[0])\n",
    "print(\"Second fruit:\", fruits[1])\n",
    "print(\"Is 'banana' in the tuple?\", \"banana\" in fruits)\n",
    "print(\"Number of fruits:\", len(fruits))\n"
   ]
  },
  {
   "cell_type": "code",
   "execution_count": 14,
   "id": "21efd59d",
   "metadata": {},
   "outputs": [
    {
     "name": "stdout",
     "output_type": "stream",
     "text": [
      "Alice\n",
      "{'name': 'Alice', 'age': 20, 'grade': 'A'}\n",
      "{'name': 'Alice', 'grade': 'A'}\n"
     ]
    }
   ],
   "source": [
    "student = {\"name\": \"Alice\", \"age\": 20}\n",
    "\n",
    "print(student[\"name\"])\n",
    "\n",
    "student[\"grade\"] = \"A\"\n",
    "print(student)\n",
    "\n",
    "del student[\"age\"]\n",
    "print(student)\n"
   ]
  },
  {
   "cell_type": "code",
   "execution_count": null,
   "id": "29b6bbaf",
   "metadata": {},
   "outputs": [],
   "source": []
  }
 ],
 "metadata": {
  "kernelspec": {
   "display_name": "Python 3 (ipykernel)",
   "language": "python",
   "name": "python3"
  },
  "language_info": {
   "codemirror_mode": {
    "name": "ipython",
    "version": 3
   },
   "file_extension": ".py",
   "mimetype": "text/x-python",
   "name": "python",
   "nbconvert_exporter": "python",
   "pygments_lexer": "ipython3",
   "version": "3.11.4"
  }
 },
 "nbformat": 4,
 "nbformat_minor": 5
}
